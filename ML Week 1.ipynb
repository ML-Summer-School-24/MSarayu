{
 "cells": [
  {
   "cell_type": "code",
   "execution_count": 2,
   "id": "5b511f79",
   "metadata": {},
   "outputs": [],
   "source": [
    "import pandas as pd\n"
   ]
  },
  {
   "cell_type": "code",
   "execution_count": 3,
   "id": "87053f09",
   "metadata": {},
   "outputs": [
    {
     "name": "stdout",
     "output_type": "stream",
     "text": [
      "   Roll Number             Name Gender  Marks1  Marks2  Marks3\n",
      "0            1   Adrian Pimento      M      85      88      90\n",
      "1            2     Amy Santiago      F      78      74      80\n",
      "2            3    Charles Boyle      M      92      91      93\n",
      "3            4        Doug Judy      M      88      86      89\n",
      "4            5     Gina Linetti      F      76      79      77\n",
      "5            6     Jake Peralta      M      90      87      92\n",
      "6            7     Kevin Cozner      M      82      85      84\n",
      "7            8  Madeline Wuntch      F      89      90      88\n",
      "8            9     Raymond Holt      M      95      94      96\n",
      "9           10        Rosa Diaz      F      80      81      82\n"
     ]
    }
   ],
   "source": [
    "df = pd.DataFrame({\n",
    "    'Roll Number': [1, 2, 3, 4, 5, 6, 7, 8, 9, 10],\n",
    "    'Name': ['Adrian Pimento', 'Amy Santiago', 'Charles Boyle', 'Doug Judy', 'Gina Linetti', 'Jake Peralta', 'Kevin Cozner', 'Madeline Wuntch', 'Raymond Holt', 'Rosa Diaz'],\n",
    "    'Gender': ['M', 'F', 'M', 'M', 'F', 'M', 'M', 'F', 'M', 'F'],\n",
    "    'Marks1': [85, 78, 92, 88, 76, 90, 82, 89, 95, 80],\n",
    "    'Marks2': [88, 74, 91, 86, 79, 87, 85, 90, 94, 81],\n",
    "    'Marks3': [90, 80, 93, 89, 77, 92, 84, 88, 96, 82]\n",
    "    \n",
    "})\n",
    "print(df)"
   ]
  },
  {
   "cell_type": "code",
   "execution_count": 4,
   "id": "ee756c29",
   "metadata": {},
   "outputs": [
    {
     "name": "stdout",
     "output_type": "stream",
     "text": [
      "   Roll Number             Name Gender  Marks1  Marks2  Marks3  Total Marks\n",
      "0            1   Adrian Pimento      M      85      88      90          263\n",
      "1            2     Amy Santiago      F      78      74      80          232\n",
      "2            3    Charles Boyle      M      92      91      93          276\n",
      "3            4        Doug Judy      M      88      86      89          263\n",
      "4            5     Gina Linetti      F      76      79      77          232\n",
      "5            6     Jake Peralta      M      90      87      92          269\n",
      "6            7     Kevin Cozner      M      82      85      84          251\n",
      "7            8  Madeline Wuntch      F      89      90      88          267\n",
      "8            9     Raymond Holt      M      95      94      96          285\n",
      "9           10        Rosa Diaz      F      80      81      82          243\n"
     ]
    }
   ],
   "source": [
    "df['Total Marks'] = df['Marks1'] + df['Marks2'] + df['Marks3']\n",
    "print(df)"
   ]
  },
  {
   "cell_type": "code",
   "execution_count": 5,
   "id": "8f8289e0",
   "metadata": {},
   "outputs": [
    {
     "data": {
      "text/plain": [
       "76"
      ]
     },
     "execution_count": 5,
     "metadata": {},
     "output_type": "execute_result"
    }
   ],
   "source": [
    "df['Marks1'].min()"
   ]
  },
  {
   "cell_type": "code",
   "execution_count": 6,
   "id": "31f52d74",
   "metadata": {},
   "outputs": [
    {
     "data": {
      "text/plain": [
       "94"
      ]
     },
     "execution_count": 6,
     "metadata": {},
     "output_type": "execute_result"
    }
   ],
   "source": [
    "df['Marks2'].max()"
   ]
  },
  {
   "cell_type": "code",
   "execution_count": 7,
   "id": "168ed9f8",
   "metadata": {},
   "outputs": [
    {
     "data": {
      "text/plain": [
       "87.1"
      ]
     },
     "execution_count": 7,
     "metadata": {},
     "output_type": "execute_result"
    }
   ],
   "source": [
    "df['Marks3'].mean()"
   ]
  },
  {
   "cell_type": "code",
   "execution_count": 19,
   "id": "1b14844f",
   "metadata": {},
   "outputs": [
    {
     "name": "stdout",
     "output_type": "stream",
     "text": [
      "   Roll Number             Name Gender  Marks1  Marks2  Marks3  Total Marks  \\\n",
      "0            1   Adrian Pimento      M      85      88      90          263   \n",
      "1            2     Amy Santiago      F      78      74      80          232   \n",
      "2            3    Charles Boyle      M      92      91      93          276   \n",
      "3            4        Doug Judy      M      88      86      89          263   \n",
      "4            5     Gina Linetti      F      76      79      77          232   \n",
      "5            6     Jake Peralta      M      90      87      92          269   \n",
      "6            7     Kevin Cozner      M      82      85      84          251   \n",
      "7            8  Madeline Wuntch      F      89      90      88          267   \n",
      "8            9     Raymond Holt      M      95      94      96          285   \n",
      "9           10        Rosa Diaz      F      80      81      82          243   \n",
      "\n",
      "   Average Marks  \n",
      "0      87.666667  \n",
      "1      77.333333  \n",
      "2      92.000000  \n",
      "3      87.666667  \n",
      "4      77.333333  \n",
      "5      89.666667  \n",
      "6      83.666667  \n",
      "7      89.000000  \n",
      "8      95.000000  \n",
      "9      81.000000  \n"
     ]
    }
   ],
   "source": [
    "df['Average Marks'] = df[['Marks1','Marks2','Marks3']].mean(axis=1)\n",
    "print(df)"
   ]
  },
  {
   "cell_type": "code",
   "execution_count": 31,
   "id": "fbadbd1c",
   "metadata": {},
   "outputs": [
    {
     "name": "stdout",
     "output_type": "stream",
     "text": [
      "Roll Number                 9\n",
      "Name             Raymond Holt\n",
      "Gender                      M\n",
      "Marks1                     95\n",
      "Marks2                     94\n",
      "Marks3                     96\n",
      "Total Marks               285\n",
      "Average Marks            95.0\n",
      "Name: 8, dtype: object\n"
     ]
    }
   ],
   "source": [
    "max_avg= df['Average Marks'].max()\n",
    "print(df.loc[df['Average Marks'].idxmax()])"
   ]
  },
  {
   "cell_type": "code",
   "execution_count": 38,
   "id": "a3043128",
   "metadata": {},
   "outputs": [
    {
     "name": "stdout",
     "output_type": "stream",
     "text": [
      "The number of people failed in Marks2 is: 0\n"
     ]
    }
   ],
   "source": [
    "count = 0\n",
    "for i in df['Marks2']:\n",
    "    if i < 40:\n",
    "        count += 1\n",
    "\n",
    "print(\"The number of people failed in Marks2 is: \" + str(count))\n",
    "\n",
    "    "
   ]
  }
 ],
 "metadata": {
  "kernelspec": {
   "display_name": "Python 3 (ipykernel)",
   "language": "python",
   "name": "python3"
  },
  "language_info": {
   "codemirror_mode": {
    "name": "ipython",
    "version": 3
   },
   "file_extension": ".py",
   "mimetype": "text/x-python",
   "name": "python",
   "nbconvert_exporter": "python",
   "pygments_lexer": "ipython3",
   "version": "3.11.5"
  }
 },
 "nbformat": 4,
 "nbformat_minor": 5
}
